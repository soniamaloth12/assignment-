{
 "cells": [
  {
   "cell_type": "markdown",
   "metadata": {},
   "source": [
    "### REMOVING OF SPACES FROM STRING"
   ]
  },
  {
   "cell_type": "markdown",
   "metadata": {},
   "source": [
    "#function used: strip()                                                            \n",
    "                                             \n",
    "#syntax:    s.strip()  \n",
    "\n",
    "strip() -removes spaces both sides\n",
    "\n",
    "rstrip()-removes spaces on right side\n",
    "\n",
    "lstrip()-removes spaces on leftside\n",
    "\n",
    "ex:username\n",
    "    "
   ]
  },
  {
   "cell_type": "code",
   "execution_count": null,
   "metadata": {},
   "outputs": [],
   "source": [
    "s=input(\"enter string:\")\n",
    "print(s)\n",
    "s1=s.strip()\n",
    "print(s1)"
   ]
  },
  {
   "cell_type": "code",
   "execution_count": null,
   "metadata": {},
   "outputs": [],
   "source": [
    "s=input(\"enter string:\")\n",
    "print(s)\n",
    "if s==\"venky naidu\":\n",
    "    print(\"spaces removed\")\n",
    "else:\n",
    "    print(\"please remove spaces\")\n",
    "    s1=s.lstrip()\n",
    "    if s==\"venky naidu\":\n",
    "        print(\"spaces removed by strip\")\n",
    "    \n",
    "        "
   ]
  },
  {
   "cell_type": "markdown",
   "metadata": {},
   "source": [
    "### FINDING SUBSTRING"
   ]
  },
  {
   "cell_type": "markdown",
   "metadata": {},
   "source": [
    "#### forward direction:"
   ]
  },
  {
   "cell_type": "markdown",
   "metadata": {},
   "source": [
    "1.find()\n",
    "\n",
    "2.index()"
   ]
  },
  {
   "cell_type": "markdown",
   "metadata": {},
   "source": [
    "### 1.find"
   ]
  },
  {
   "cell_type": "markdown",
   "metadata": {},
   "source": [
    "syntax: s.find(substring)\n",
    "\n",
    "returns index of first occurance of the given substring  in maoin string if it is not found then it returns  -1"
   ]
  },
  {
   "cell_type": "code",
   "execution_count": null,
   "metadata": {},
   "outputs": [],
   "source": [
    "s=\"Hello food morning,hello,hello good evening\"\n",
    "print(s.find(\"hello\"))\n",
    "print(s.find(\"Hello\"))\n",
    "print(s.find('e'))\n",
    "print(s.find(\"venky\"))"
   ]
  },
  {
   "cell_type": "markdown",
   "metadata": {},
   "source": [
    "by indexing\n",
    "s.find(substring,start index,end index)"
   ]
  },
  {
   "cell_type": "code",
   "execution_count": null,
   "metadata": {},
   "outputs": [],
   "source": [
    "s=\"Hello Hai how are you\"\n",
    "print(s.find('H',2,5))\n",
    "print(s.find('H',2,15))"
   ]
  },
  {
   "cell_type": "markdown",
   "metadata": {},
   "source": [
    "### 2.index"
   ]
  },
  {
   "cell_type": "markdown",
   "metadata": {},
   "source": [
    "syntax: s.index(substring)"
   ]
  },
  {
   "cell_type": "code",
   "execution_count": null,
   "metadata": {},
   "outputs": [],
   "source": [
    "s=\"Hello venky naidu balineni\"\n",
    "print(s.index(\"venky\"))\n",
    "print(s.index(\"sonia\"))"
   ]
  },
  {
   "cell_type": "code",
   "execution_count": null,
   "metadata": {},
   "outputs": [],
   "source": [
    "s=\"Hello venky naidu balineni\"\n",
    "try:\n",
    "    print(s.index(\"sonia\"))\n",
    "except value error:\n",
    "         print(\"substring is not found in main string\")"
   ]
  },
  {
   "cell_type": "markdown",
   "metadata": {},
   "source": [
    "#### reverse direction:"
   ]
  },
  {
   "cell_type": "markdown",
   "metadata": {},
   "source": [
    "1.rfind\n",
    "\n",
    "2.rindex"
   ]
  },
  {
   "cell_type": "markdown",
   "metadata": {},
   "source": [
    "### 1.rfind"
   ]
  },
  {
   "cell_type": "code",
   "execution_count": null,
   "metadata": {},
   "outputs": [],
   "source": [
    "s=\"Hello food morning,hello,hello good evening\"\n",
    "print(s.rfind(\"hello\"))\n",
    "print(s.rfind(\"Hello\"))\n",
    "print(s.rfind('e'))\n",
    "print(s.rfind(\"venky\"))"
   ]
  },
  {
   "cell_type": "code",
   "execution_count": null,
   "metadata": {},
   "outputs": [],
   "source": [
    "s=\"Hello Hai how are you\"\n",
    "print(s.rfind('H',2,5))\n",
    "print(s.rfind('H',2,15))"
   ]
  },
  {
   "cell_type": "markdown",
   "metadata": {},
   "source": [
    "### 2.rindex"
   ]
  },
  {
   "cell_type": "code",
   "execution_count": null,
   "metadata": {},
   "outputs": [],
   "source": [
    "s=\"Hello venky naidu balineni\"\n",
    "print(s.rindex(\"venky\"))\n",
    "print(s.rindex(\"sonia\"))"
   ]
  },
  {
   "cell_type": "code",
   "execution_count": null,
   "metadata": {},
   "outputs": [],
   "source": [
    "s=\"Hello venky naidu balineni\"\n",
    "try:\n",
    "    print(s.index(\"sonia\"))\n",
    "except value error:\n",
    "         print(\"substring is not found in main string\")"
   ]
  },
  {
   "cell_type": "markdown",
   "metadata": {},
   "source": [
    "### COUNTING SUBSTRING IN MAIN STRING"
   ]
  },
  {
   "cell_type": "code",
   "execution_count": null,
   "metadata": {},
   "outputs": [],
   "source": [
    "s=\"Hello good morning ,Hello,Hello,How are you,you\"\n",
    "print(s.count(\"Hello\"))\n",
    "print(s.count(\"H\"))\n",
    "print(s.count(\"hello\"))\n",
    "print(s.count(\"Hello\",10,40))\n"
   ]
  },
  {
   "cell_type": "markdown",
   "metadata": {},
   "source": [
    "### REPLACING A STRING/SUBSTRING WITH OTHER STRING"
   ]
  },
  {
   "cell_type": "markdown",
   "metadata": {},
   "source": [
    "function used : replace()\n",
    "    \n",
    "syntax:s.replace(substring)"
   ]
  },
  {
   "cell_type": "code",
   "execution_count": null,
   "metadata": {},
   "outputs": [],
   "source": [
    "s=\"Hello good morning ,Hello,Hello,How are you,you\"\n",
    "s1=s.replace(\"Hello\",\"sonia\")\n",
    "print(s)\n",
    "print(id(s1))\n",
    "print(id(s))\n",
    "print(s1)"
   ]
  },
  {
   "cell_type": "markdown",
   "metadata": {},
   "source": [
    "once we create a string object we cannot modidy content,because string is immutable\n",
    "even if we modify,instead of changing the content in original object,it creates new object by default"
   ]
  },
  {
   "cell_type": "markdown",
   "metadata": {},
   "source": [
    "### SPLITTING IF STRING"
   ]
  },
  {
   "cell_type": "markdown",
   "metadata": {},
   "source": [
    "func used: split()\n",
    "    \n",
    "syntax: s.split()    "
   ]
  },
  {
   "cell_type": "code",
   "execution_count": null,
   "metadata": {},
   "outputs": [],
   "source": [
    "s=\"Hello venky naidu balineni\"\n",
    "l=s.split()\n",
    "print(l)"
   ]
  },
  {
   "cell_type": "code",
   "execution_count": null,
   "metadata": {},
   "outputs": [],
   "source": [
    "date='27/04/2021'\n",
    "l1=date.split('/')\n",
    "print(l1)"
   ]
  },
  {
   "cell_type": "code",
   "execution_count": null,
   "metadata": {},
   "outputs": [],
   "source": [
    "date='27-04-2021'\n",
    "l1=date.split('-')\n",
    "print(l1)"
   ]
  },
  {
   "cell_type": "code",
   "execution_count": null,
   "metadata": {},
   "outputs": [],
   "source": [
    "date='27/04/2021'\n",
    "l1=date.split('2')\n",
    "print(l1)"
   ]
  },
  {
   "cell_type": "markdown",
   "metadata": {},
   "source": [
    "### JOINING OF STRINGS"
   ]
  },
  {
   "cell_type": "markdown",
   "metadata": {},
   "source": [
    "func used: join()\n",
    "\n",
    "syntax: s=separator .join(group strings)    "
   ]
  },
  {
   "cell_type": "code",
   "execution_count": null,
   "metadata": {},
   "outputs": [],
   "source": [
    "l=[\"venky\",\"naidu\",\"balineni\"]\n",
    "s=''.join(l)\n",
    "print(s)"
   ]
  },
  {
   "cell_type": "code",
   "execution_count": null,
   "metadata": {},
   "outputs": [],
   "source": [
    "l=[\"venky\",\"naidu\",\"balineni\"]\n",
    "s='%'.join(l)\n",
    "print(s)"
   ]
  },
  {
   "cell_type": "code",
   "execution_count": null,
   "metadata": {},
   "outputs": [],
   "source": [
    "l=[\"venky\",\"naidu\",\"balineni\"]\n",
    "s=':'.join(l)\n",
    "print(s)"
   ]
  },
  {
   "cell_type": "code",
   "execution_count": null,
   "metadata": {},
   "outputs": [],
   "source": [
    "s='-'.join(\"hello\",\"venky\")\n",
    "print(s)"
   ]
  }
 ],
 "metadata": {
  "kernelspec": {
   "display_name": "Python 3",
   "language": "python",
   "name": "python3"
  },
  "language_info": {
   "codemirror_mode": {
    "name": "ipython",
    "version": 3
   },
   "file_extension": ".py",
   "mimetype": "text/x-python",
   "name": "python",
   "nbconvert_exporter": "python",
   "pygments_lexer": "ipython3",
   "version": "3.8.5"
  }
 },
 "nbformat": 4,
 "nbformat_minor": 4
}
