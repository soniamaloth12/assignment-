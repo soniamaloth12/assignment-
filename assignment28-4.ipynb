{
 "cells": [
  {
   "cell_type": "code",
   "execution_count": 29,
   "metadata": {},
   "outputs": [
    {
     "name": "stdout",
     "output_type": "stream",
     "text": [
      "yknev\n"
     ]
    }
   ],
   "source": [
    "s=\"venky\"\n",
    "print(s[::-1])\n"
   ]
  },
  {
   "cell_type": "code",
   "execution_count": 73,
   "metadata": {},
   "outputs": [
    {
     "name": "stdout",
     "output_type": "stream",
     "text": [
      "['Venky', 'Naidu', 'Balineni']\n",
      "['Balineni', 'Naidu', 'Venky']\n"
     ]
    }
   ],
   "source": [
    "s=\"Venky Naidu Balineni\"\n",
    "l=s.split()\n",
    "print(l)\n",
    "print(l[::-1])\n",
    "\n",
    "\n"
   ]
  },
  {
   "cell_type": "code",
   "execution_count": 98,
   "metadata": {},
   "outputs": [
    {
     "name": "stdout",
     "output_type": "stream",
     "text": [
      "ykneV olleH\n",
      "['ykneV', 'olleH']\n",
      "['olleH', 'ykneV']\n",
      "olleH ykneV\n"
     ]
    }
   ],
   "source": [
    "s=\"Hello Venky\"\n",
    "h=s[::-1]\n",
    "print(h)\n",
    "d=h.split()\n",
    "print(d)\n",
    "t=d[::-1]\n",
    "print(t)\n",
    "r=\" \".join( t)\n",
    "print(r)"
   ]
  },
  {
   "cell_type": "code",
   "execution_count": 47,
   "metadata": {},
   "outputs": [
    {
     "name": "stdout",
     "output_type": "stream",
     "text": [
      "hlo\n",
      "el\n"
     ]
    }
   ],
   "source": [
    "s=\"hello\"\n",
    "e=s[::2]\n",
    "print(e)\n",
    "o=s[1::2]\n",
    "print(o)\n"
   ]
  },
  {
   "cell_type": "code",
   "execution_count": 107,
   "metadata": {},
   "outputs": [
    {
     "name": "stdout",
     "output_type": "stream",
     "text": [
      "v e n k y\n"
     ]
    }
   ],
   "source": [
    "s1='vny'\n",
    "s2='ek'\n",
    "print(s1[0], s2[0] ,s1[1] ,s2[1] ,s1[2])\n",
    "\n"
   ]
  },
  {
   "cell_type": "code",
   "execution_count": null,
   "metadata": {},
   "outputs": [],
   "source": []
  }
 ],
 "metadata": {
  "kernelspec": {
   "display_name": "Python 3",
   "language": "python",
   "name": "python3"
  },
  "language_info": {
   "codemirror_mode": {
    "name": "ipython",
    "version": 3
   },
   "file_extension": ".py",
   "mimetype": "text/x-python",
   "name": "python",
   "nbconvert_exporter": "python",
   "pygments_lexer": "ipython3",
   "version": "3.8.5"
  }
 },
 "nbformat": 4,
 "nbformat_minor": 4
}
